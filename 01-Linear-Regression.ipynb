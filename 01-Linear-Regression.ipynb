{
 "metadata": {
  "name": "01-Linear-Regression"
 },
 "nbformat": 3,
 "nbformat_minor": 0,
 "worksheets": [
  {
   "cells": [
    {
     "cell_type": "heading",
     "level": 1,
     "metadata": {},
     "source": [
      "Stanford Machine Learning Class - Linear Regression"
     ]
    },
    {
     "cell_type": "code",
     "collapsed": false,
     "input": [
      "from numpy import arange,array,ones,linalg\n",
      "from pylab import plot,show\n",
      "\n",
      "xi = arange(0,9)\n",
      "A = array([ xi, ones(9)])\n",
      "# linearly generated sequence\n",
      "y = [19, 20, 20.5, 21.5, 22, 23, 23, 25.5, 24]\n",
      "w = linalg.lstsq(A.T,y)[0] # obtaining the parameters\n",
      "\n",
      "# plotting the line\n",
      "line = w[0]*xi+w[1] # regression line\n",
      "plot(xi,line,'r-',xi,y,'o')\n"
     ],
     "language": "python",
     "metadata": {},
     "outputs": [
      {
       "output_type": "pyout",
       "prompt_number": 2,
       "text": [
        "[<matplotlib.lines.Line2D at 0x111222cd0>,\n",
        " <matplotlib.lines.Line2D at 0x1112225d0>]"
       ]
      },
      {
       "output_type": "display_data",
       "png": "[encoded data removed]"
      }
     ],
     "prompt_number": 2
    },
    {
     "cell_type": "code",
     "collapsed": false,
     "input": [
      "from numpy import arange,array,ones#,random,linalg\n",
      "from pylab import plot,show\n",
      "from scipy import stats\n",
      "\n",
      "xi = arange(0,9)\n",
      "A = array([ xi, ones(9)])\n",
      "# linearly generated sequence\n",
      "y = [19, 20, 20.5, 21.5, 22, 23, 23, 25.5, 24]\n",
      "\n",
      "slope, intercept, r_value, p_value, std_err = stats.linregress(xi,y)\n",
      "\n",
      "print 'r value', r_value\n",
      "print  'p_value', p_value\n",
      "print 'standard deviation', std_err\n",
      "\n",
      "line = slope*xi+intercept\n",
      "plot(xi,line,'r-',xi,y,'o')"
     ],
     "language": "python",
     "metadata": {},
     "outputs": []
    }
   ],
   "metadata": {}
  }
 ]
}